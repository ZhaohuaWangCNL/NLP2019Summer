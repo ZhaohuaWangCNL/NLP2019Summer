{
 "cells": [
  {
   "cell_type": "markdown",
   "metadata": {},
   "source": [
    "## Dynamic Programming"
   ]
  },
  {
   "cell_type": "code",
   "execution_count": 121,
   "metadata": {},
   "outputs": [],
   "source": [
    "original_price = [1, 5, 8, 9, 10, 17, 17, 20, 24, 30, 35]"
   ]
  },
  {
   "cell_type": "code",
   "execution_count": 122,
   "metadata": {},
   "outputs": [],
   "source": [
    "from collections import defaultdict"
   ]
  },
  {
   "cell_type": "code",
   "execution_count": 123,
   "metadata": {},
   "outputs": [],
   "source": [
    "price = defaultdict(int)"
   ]
  },
  {
   "cell_type": "code",
   "execution_count": 124,
   "metadata": {},
   "outputs": [],
   "source": [
    "for i, p in enumerate(original_price): \n",
    "    price[i + 1] = p"
   ]
  },
  {
   "cell_type": "code",
   "execution_count": 125,
   "metadata": {},
   "outputs": [
    {
     "data": {
      "text/plain": [
       "0"
      ]
     },
     "execution_count": 125,
     "metadata": {},
     "output_type": "execute_result"
    }
   ],
   "source": [
    "price[30]"
   ]
  },
  {
   "cell_type": "markdown",
   "metadata": {},
   "source": [
    "## Get the max splitting by enumerate"
   ]
  },
  {
   "cell_type": "markdown",
   "metadata": {},
   "source": [
    "### 背景知识：python is a language that is function oriental 面向函数的语言"
   ]
  },
  {
   "cell_type": "code",
   "execution_count": 9,
   "metadata": {},
   "outputs": [
    {
     "name": "stdout",
     "output_type": "stream",
     "text": [
      "110\n",
      "1000\n"
     ]
    }
   ],
   "source": [
    "def example(f,arg):\n",
    "    return f(arg)\n",
    "def add_ten(num):\n",
    "    return num+10\n",
    "def mul_ten(num):\n",
    "    return num*10\n",
    "operations = [add_ten,mul_ten]\n",
    "for f in operations:\n",
    "    print(example(f,100))"
   ]
  },
  {
   "cell_type": "code",
   "execution_count": 81,
   "metadata": {},
   "outputs": [
    {
     "name": "stdout",
     "output_type": "stream",
     "text": [
      "I am function 1\n",
      "function: some_function_1 called once!\n"
     ]
    },
    {
     "data": {
      "text/plain": [
       "defaultdict(int, {'some_function_1': 1})"
      ]
     },
     "execution_count": 81,
     "metadata": {},
     "output_type": "execute_result"
    }
   ],
   "source": [
    "called_time = defaultdict(int)\n",
    "def get_call_times(f):\n",
    "    result = f()\n",
    "    print ('function: {} called once!'.format(f.__name__))\n",
    "    called_time[f.__name__]+=1\n",
    "    return result\n",
    "def some_function_1():\n",
    "    print('I am function 1')\n",
    "get_call_times(some_function_1)\n",
    "called_time"
   ]
  },
  {
   "cell_type": "markdown",
   "metadata": {},
   "source": [
    "#### 我们来观察一下不同的r(n)被调用了多少次"
   ]
  },
  {
   "cell_type": "code",
   "execution_count": 92,
   "metadata": {},
   "outputs": [
    {
     "data": {
      "text/plain": [
       "[(('r', 1), 18), (('r', 2), 6), (('r', 3), 2), (('r', 4), 1)]"
      ]
     },
     "execution_count": 92,
     "metadata": {},
     "output_type": "execute_result"
    }
   ],
   "source": [
    "call_time_with_arg = defaultdict(int)\n",
    "def r(n):\n",
    "    fname = r.__name__  ##我们在解决切管子的问题时，实际并不关心这行代码\n",
    "    call_time_with_arg[(fname,n)] +=1 ##我们在解决切管子的问题时，实际并不关心这行代码\n",
    "    return max([price[n]]+[r(i)+r(n-i) for i in range(1,n)])\n",
    "r(4)\n",
    "call_time_with_arg\n",
    "from collections import Counter\n",
    "Counter(call_time_with_arg).most_common()"
   ]
  },
  {
   "cell_type": "code",
   "execution_count": 93,
   "metadata": {},
   "outputs": [],
   "source": [
    "del call_time_with_arg"
   ]
  },
  {
   "cell_type": "markdown",
   "metadata": {},
   "source": [
    "#### 我们实际并不希望执行fname=r.__name__ 和call_time_with_arg[(fname,n)]+=1 这两行代码。===》介绍python中装饰器的用法来解决\n"
   ]
  },
  {
   "cell_type": "code",
   "execution_count": 142,
   "metadata": {},
   "outputs": [],
   "source": [
    "## 此处定义get_call_time（f） 后期可以@get_call_time 直接调用这一函数，我们不希望执行的那两行代码不必出现在r(n)函数中\n",
    "from collections import defaultdict\n",
    "call_time_with_arg = defaultdict(int)\n",
    "def get_call_time(f):\n",
    "\n",
    "    def wrap(n):\n",
    "        \"\"\"\n",
    "        a help line: I am a wrap\n",
    "        \"\"\"\n",
    "        print ('I can count')\n",
    "        result = f(n)\n",
    "        call_time_with_arg[(f.__name__,n)]+=1\n",
    "        return result\n",
    "    return wrap"
   ]
  },
  {
   "cell_type": "code",
   "execution_count": 139,
   "metadata": {},
   "outputs": [
    {
     "name": "stdout",
     "output_type": "stream",
     "text": [
      "I can count\n"
     ]
    },
    {
     "data": {
      "text/plain": [
       "90"
      ]
     },
     "execution_count": 139,
     "metadata": {},
     "output_type": "execute_result"
    }
   ],
   "source": [
    "def add_ten(num):\n",
    "    return num+10\n",
    "add_ten = get_call_time(add_ten)\n",
    "add_ten(80)  ##此时add_ten这一函数不止有加10的功能，还可以额外执行call_time_with_arg调用次数的追踪"
   ]
  },
  {
   "cell_type": "code",
   "execution_count": 140,
   "metadata": {},
   "outputs": [
    {
     "name": "stdout",
     "output_type": "stream",
     "text": [
      "I can count\n"
     ]
    },
    {
     "data": {
      "text/plain": [
       "29"
      ]
     },
     "execution_count": 140,
     "metadata": {},
     "output_type": "execute_result"
    }
   ],
   "source": [
    "@get_call_time  ##这一模块功能和上面的相同，通过@直接实现\n",
    "def add_twenty(num): return num+20\n",
    "add_twenty(9)"
   ]
  },
  {
   "cell_type": "code",
   "execution_count": 115,
   "metadata": {},
   "outputs": [],
   "source": [
    "del call_time_with_arg"
   ]
  },
  {
   "cell_type": "markdown",
   "metadata": {},
   "source": [
    "#### 对比加上装饰器和不加装饰器时help显示的信息"
   ]
  },
  {
   "cell_type": "code",
   "execution_count": 143,
   "metadata": {},
   "outputs": [
    {
     "name": "stdout",
     "output_type": "stream",
     "text": [
      "Help on function wrap in module __main__:\n",
      "\n",
      "wrap(n)\n",
      "    a help line: I am a wrap\n",
      "\n"
     ]
    },
    {
     "data": {
      "text/plain": [
       "[]"
      ]
     },
     "execution_count": 143,
     "metadata": {},
     "output_type": "execute_result"
    }
   ],
   "source": [
    "from collections import defaultdict\n",
    "call_time_with_arg = defaultdict(int)\n",
    "@get_call_time\n",
    "def r(n):\n",
    "    \"\"\"\n",
    "    Args: n is the iron length\n",
    "    return the max revenue\n",
    "    \"\"\"\n",
    "    return max([price[n]]+[r(i)+r(n-i) for i in range(1,n)])\n",
    "help(r)\n",
    "call_time_with_arg\n",
    "from collections import Counter\n",
    "Counter(call_time_with_arg).most_common()"
   ]
  },
  {
   "cell_type": "markdown",
   "metadata": {},
   "source": [
    "#### @wraps 帮助解决上述问题"
   ]
  },
  {
   "cell_type": "code",
   "execution_count": 148,
   "metadata": {},
   "outputs": [],
   "source": [
    "from functools import wraps"
   ]
  },
  {
   "cell_type": "code",
   "execution_count": 220,
   "metadata": {},
   "outputs": [
    {
     "name": "stdout",
     "output_type": "stream",
     "text": [
      "Help on function r in module __main__:\n",
      "\n",
      "r(n)\n",
      "    Args: n is the iron length\n",
      "    return the max revenue\n",
      "\n"
     ]
    },
    {
     "data": {
      "text/plain": [
       "defaultdict(int, {('r', 1): 18, ('r', 2): 6, ('r', 3): 2, ('r', 4): 1})"
      ]
     },
     "execution_count": 220,
     "metadata": {},
     "output_type": "execute_result"
    }
   ],
   "source": [
    "called_time_with_arg = defaultdict(int)\n",
    "def get_call_time(f):\n",
    "    \"\"\"@param f is a function\"\"\"\n",
    "    @wraps(f)   ##此处添加一行\n",
    "    def wrap(n):\n",
    "        \"\"\"Haha I am warp\"\"\"\n",
    "        # print ('I can count!')\n",
    "        result = f(n)\n",
    "        called_time_with_arg[(f.__name__,n)]+=1\n",
    "        return result\n",
    "    return wrap\n",
    "\n",
    "from collections import defaultdict\n",
    "@get_call_time\n",
    "def r(n):\n",
    "    \"\"\"\n",
    "    Args: n is the iron length\n",
    "    return the max revenue\n",
    "    \"\"\"\n",
    "    return max([price[n]]+[r(i)+r(n-i) for i in range(1,n)])\n",
    "help(r)\n",
    "r(4)\n",
    "called_time_with_arg\n"
   ]
  },
  {
   "cell_type": "code",
   "execution_count": 218,
   "metadata": {},
   "outputs": [],
   "source": [
    "del called_time_with_arg"
   ]
  },
  {
   "cell_type": "markdown",
   "metadata": {},
   "source": [
    "#### cache 定义already_calculated作为缓存 存储已经计算过的r（n）从而提升运行效率 （call time会全变成1次）"
   ]
  },
  {
   "cell_type": "code",
   "execution_count": 326,
   "metadata": {},
   "outputs": [],
   "source": [
    "already_calculated = {}\n",
    "def memo(f):\n",
    "    @wraps(f)\n",
    "    def _wrap(arg):\n",
    "        result = None\n",
    "        if arg in already_calculated:\n",
    "            result = already_calculated[arg]\n",
    "        else:\n",
    "            result = f(arg)\n",
    "            already_calculated[arg] = result\n",
    "        return result\n",
    "    return _wrap"
   ]
  },
  {
   "cell_type": "code",
   "execution_count": 310,
   "metadata": {},
   "outputs": [],
   "source": [
    "\n",
    "call_time_with_arg = defaultdict(int)\n",
    "def get_call_time(f):\n",
    "    \"\"\"@param f is a function\"\"\"\n",
    "    @wraps(f)   ##此处添加一行\n",
    "    def w(n):\n",
    "        \"\"\"Haha I am warp\"\"\"\n",
    "        #print ('I can count!')\n",
    "        result = f(n)\n",
    "        call_time_with_arg[(f.__name__,n)]+=1\n",
    "        return result\n",
    "    return w\n"
   ]
  },
  {
   "cell_type": "code",
   "execution_count": 314,
   "metadata": {},
   "outputs": [
    {
     "data": {
      "text/plain": [
       "141"
      ]
     },
     "execution_count": 314,
     "metadata": {},
     "output_type": "execute_result"
    }
   ],
   "source": [
    "@memo\n",
    "@get_call_time\n",
    "def r(n):\n",
    "    \"\"\"\n",
    "    Args: n is the iron length\n",
    "    return the max revenue\n",
    "    \"\"\"\n",
    "    return max([price[n]]+[r(i)+r(n-i) for i in range(1,n)])\n",
    "\n",
    "r(45)  ## 可以看到使用memo后，call time就全变1了！！\n"
   ]
  },
  {
   "cell_type": "code",
   "execution_count": 315,
   "metadata": {},
   "outputs": [
    {
     "data": {
      "text/plain": [
       "defaultdict(int,\n",
       "            {('r', 1): 1,\n",
       "             ('r', 2): 1,\n",
       "             ('r', 3): 1,\n",
       "             ('r', 4): 1,\n",
       "             ('r', 5): 1,\n",
       "             ('r', 6): 1,\n",
       "             ('r', 7): 1,\n",
       "             ('r', 8): 1,\n",
       "             ('r', 9): 1,\n",
       "             ('r', 10): 1,\n",
       "             ('r', 11): 1,\n",
       "             ('r', 12): 1,\n",
       "             ('r', 13): 1,\n",
       "             ('r', 14): 1,\n",
       "             ('r', 15): 1,\n",
       "             ('r', 16): 1,\n",
       "             ('r', 17): 1,\n",
       "             ('r', 18): 1,\n",
       "             ('r', 19): 1,\n",
       "             ('r', 20): 1,\n",
       "             ('r', 21): 1,\n",
       "             ('r', 22): 1,\n",
       "             ('r', 23): 1,\n",
       "             ('r', 24): 1,\n",
       "             ('r', 25): 1,\n",
       "             ('r', 26): 1,\n",
       "             ('r', 27): 1,\n",
       "             ('r', 28): 1,\n",
       "             ('r', 29): 1,\n",
       "             ('r', 30): 1,\n",
       "             ('r', 31): 1,\n",
       "             ('r', 32): 1,\n",
       "             ('r', 33): 1,\n",
       "             ('r', 34): 1,\n",
       "             ('r', 35): 1,\n",
       "             ('r', 36): 1,\n",
       "             ('r', 37): 1,\n",
       "             ('r', 38): 1,\n",
       "             ('r', 39): 1,\n",
       "             ('r', 40): 1,\n",
       "             ('r', 41): 1,\n",
       "             ('r', 42): 1,\n",
       "             ('r', 43): 1,\n",
       "             ('r', 44): 1,\n",
       "             ('r', 45): 1})"
      ]
     },
     "execution_count": 315,
     "metadata": {},
     "output_type": "execute_result"
    }
   ],
   "source": [
    "call_time_with_arg"
   ]
  },
  {
   "cell_type": "code",
   "execution_count": 268,
   "metadata": {},
   "outputs": [],
   "source": [
    "del call_time_with_arg"
   ]
  },
  {
   "cell_type": "markdown",
   "metadata": {},
   "source": [
    "### 切管子问题 目前已经可以求得最高收入，下一步：显示最高收入对应的切割策略"
   ]
  },
  {
   "cell_type": "code",
   "execution_count": 317,
   "metadata": {},
   "outputs": [],
   "source": [
    "solution = {}"
   ]
  },
  {
   "cell_type": "code",
   "execution_count": 322,
   "metadata": {},
   "outputs": [],
   "source": [
    "memo.already_calculated = {}"
   ]
  },
  {
   "cell_type": "code",
   "execution_count": 327,
   "metadata": {},
   "outputs": [],
   "source": [
    "@memo\n",
    "def r(n):\n",
    "    max_price, max_split = max(\n",
    "        [(price[n],0)]+[(r(i)+r(n-i),i) for i in range(i,n-1)],key = lambda x: x[0]\n",
    "    )\n",
    "    solution[n] = (n-max_split,max_split)\n",
    "    return max_price"
   ]
  },
  {
   "cell_type": "code",
   "execution_count": 328,
   "metadata": {},
   "outputs": [
    {
     "data": {
      "text/plain": [
       "118"
      ]
     },
     "execution_count": 328,
     "metadata": {},
     "output_type": "execute_result"
    }
   ],
   "source": [
    "r(38)"
   ]
  },
  {
   "cell_type": "code",
   "execution_count": 329,
   "metadata": {},
   "outputs": [
    {
     "data": {
      "text/plain": [
       "{10: (10, 0),\n",
       " 8: (8, 0),\n",
       " 11: (11, 0),\n",
       " 7: (7, 0),\n",
       " 2: (2, 0),\n",
       " 12: (2, 10),\n",
       " 6: (6, 0),\n",
       " 3: (3, 0),\n",
       " 13: (2, 11),\n",
       " 5: (5, 0),\n",
       " 4: (4, 0),\n",
       " 14: (3, 11),\n",
       " 15: (2, 13),\n",
       " 16: (3, 13),\n",
       " 18: (3, 15),\n",
       " 17: (6, 11),\n",
       " 9: (9, 0),\n",
       " 19: (6, 13),\n",
       " 20: (10, 10),\n",
       " 21: (11, 10),\n",
       " 22: (11, 11),\n",
       " 23: (13, 10),\n",
       " 24: (13, 11),\n",
       " 25: (14, 11),\n",
       " 26: (15, 11),\n",
       " 28: (17, 11),\n",
       " 27: (16, 11),\n",
       " 29: (18, 11),\n",
       " 30: (19, 11),\n",
       " 31: (21, 10),\n",
       " 32: (22, 10),\n",
       " 33: (22, 11),\n",
       " 34: (24, 10),\n",
       " 35: (24, 11),\n",
       " 36: (25, 11),\n",
       " 38: (27, 11)}"
      ]
     },
     "execution_count": 329,
     "metadata": {},
     "output_type": "execute_result"
    }
   ],
   "source": [
    "solution"
   ]
  },
  {
   "cell_type": "markdown",
   "metadata": {},
   "source": [
    "#### 最后一步 显示完整的最优切分方式  --所查表的解析 parse solution"
   ]
  },
  {
   "cell_type": "code",
   "execution_count": 330,
   "metadata": {},
   "outputs": [],
   "source": [
    "def parse_solution(n):\n",
    "    left_split, right_split = solution[n]\n",
    "    \n",
    "    if right_split == 0: return [left_split]\n",
    "    \n",
    "    return parse_solution(left_split) + parse_solution(right_split)"
   ]
  },
  {
   "cell_type": "code",
   "execution_count": 331,
   "metadata": {},
   "outputs": [
    {
     "data": {
      "text/plain": [
       "743"
      ]
     },
     "execution_count": 331,
     "metadata": {},
     "output_type": "execute_result"
    }
   ],
   "source": [
    "r(234)"
   ]
  },
  {
   "cell_type": "code",
   "execution_count": 333,
   "metadata": {},
   "outputs": [
    {
     "data": {
      "text/plain": [
       "[11, 11, 11, 11, 11, 11, 10, 10]"
      ]
     },
     "execution_count": 333,
     "metadata": {},
     "output_type": "execute_result"
    }
   ],
   "source": [
    "parse_solution(86)"
   ]
  },
  {
   "cell_type": "markdown",
   "metadata": {},
   "source": [
    "## Dynamic Programming"
   ]
  },
  {
   "cell_type": "markdown",
   "metadata": {},
   "source": [
    "+ 1. Overlapping Subproblems\n",
    "+ 2. Overlapping computing saved in a table\n",
    "+ 3. Parse solution"
   ]
  }
 ],
 "metadata": {
  "kernelspec": {
   "display_name": "Python 3",
   "language": "python",
   "name": "python3"
  },
  "language_info": {
   "codemirror_mode": {
    "name": "ipython",
    "version": 3
   },
   "file_extension": ".py",
   "mimetype": "text/x-python",
   "name": "python",
   "nbconvert_exporter": "python",
   "pygments_lexer": "ipython3",
   "version": "3.7.1"
  }
 },
 "nbformat": 4,
 "nbformat_minor": 2
}
